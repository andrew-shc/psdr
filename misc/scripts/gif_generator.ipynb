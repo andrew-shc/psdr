{
 "cells": [
  {
   "cell_type": "code",
   "execution_count": 4,
   "id": "b0439cb9",
   "metadata": {},
   "outputs": [],
   "source": [
    "import imageio.v2 as imageio\n",
    "import os\n",
    "import re\n",
    "\n",
    "png_dir = \"../output\""
   ]
  },
  {
   "cell_type": "code",
   "execution_count": null,
   "id": "9d2f7f3b",
   "metadata": {},
   "outputs": [
    {
     "name": "stdout",
     "output_type": "stream",
     "text": [
      "Saved I.gif\n",
      "Saved I_grad.gif\n",
      "Saved I_grad.gif\n"
     ]
    }
   ],
   "source": [
    "def numerical_sort(files):\n",
    "    # Extract numbers from filenames for sorting\n",
    "    def sort_key(f):\n",
    "        nums = re.findall(r'\\d+', f)\n",
    "        return int(nums[-1]) if nums else -1\n",
    "    return sorted(files, key=sort_key)\n",
    "\n",
    "# Collect and numerically sort files for each pattern\n",
    "i_pngs = numerical_sort([f for f in os.listdir(png_dir) if f.startswith(\"I_\") and f.endswith(\".png\") and not f.startswith(\"I_grad\")])\n",
    "i_grad_pngs = numerical_sort([f for f in os.listdir(png_dir) if f.startswith(\"I_grad\") and f.endswith(\".png\")])\n",
    "\n",
    "# Create GIF for I_*.png\n",
    "if i_pngs:\n",
    "    images = [imageio.imread(os.path.join(png_dir, f)) for f in i_pngs]\n",
    "    imageio.mimsave(\"I.gif\", images, duration=0.1, loop=0)\n",
    "    print(\"Saved I.gif\")\n",
    "\n",
    "# Create GIF for I_grad*.png\n",
    "if i_grad_pngs:\n",
    "    images = [imageio.imread(os.path.join(png_dir, f)) for f in i_grad_pngs]\n",
    "    imageio.mimsave(\"I_grad.gif\", images, duration=0.1, loop=0)\n",
    "    print(\"Saved I_grad.gif\")"
   ]
  },
  {
   "cell_type": "code",
   "execution_count": null,
   "id": "63b50127",
   "metadata": {},
   "outputs": [],
   "source": []
  }
 ],
 "metadata": {
  "kernelspec": {
   "display_name": "base",
   "language": "python",
   "name": "python3"
  },
  "language_info": {
   "codemirror_mode": {
    "name": "ipython",
    "version": 3
   },
   "file_extension": ".py",
   "mimetype": "text/x-python",
   "name": "python",
   "nbconvert_exporter": "python",
   "pygments_lexer": "ipython3",
   "version": "3.13.2"
  }
 },
 "nbformat": 4,
 "nbformat_minor": 5
}
